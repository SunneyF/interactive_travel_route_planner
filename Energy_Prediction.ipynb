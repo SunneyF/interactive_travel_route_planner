{
  "nbformat": 4,
  "nbformat_minor": 0,
  "metadata": {
    "colab": {
      "provenance": [],
      "mount_file_id": "1o66HFYv7snauOklVB20HU_NimpWRd-aq",
      "authorship_tag": "ABX9TyPVNx0PHn8Lz59C6z/xG0i6",
      "include_colab_link": true
    },
    "kernelspec": {
      "name": "python3",
      "display_name": "Python 3"
    },
    "language_info": {
      "name": "python"
    }
  },
  "cells": [
    {
      "cell_type": "markdown",
      "metadata": {
        "id": "view-in-github",
        "colab_type": "text"
      },
      "source": [
        "<a href=\"https://colab.research.google.com/github/SunneyF/interactive_travel_route_planner/blob/main/Energy_Prediction.ipynb\" target=\"_parent\"><img src=\"https://colab.research.google.com/assets/colab-badge.svg\" alt=\"Open In Colab\"/></a>"
      ]
    },
    {
      "cell_type": "code",
      "source": [
        "!pip install flexpolyline\n",
        "!pip install pyproj"
      ],
      "metadata": {
        "id": "FK6-5Wzns9c9",
        "colab": {
          "base_uri": "https://localhost:8080/"
        },
        "outputId": "034db007-b2ad-471c-904a-683f98d43e60"
      },
      "execution_count": 3,
      "outputs": [
        {
          "output_type": "stream",
          "name": "stdout",
          "text": [
            "Requirement already satisfied: flexpolyline in /usr/local/lib/python3.10/dist-packages (0.1.0)\n",
            "Requirement already satisfied: pyproj in /usr/local/lib/python3.10/dist-packages (3.6.1)\n",
            "Requirement already satisfied: certifi in /usr/local/lib/python3.10/dist-packages (from pyproj) (2024.6.2)\n"
          ]
        }
      ]
    },
    {
      "cell_type": "code",
      "execution_count": 10,
      "metadata": {
        "id": "QS2SmH_DfZ4r"
      },
      "outputs": [],
      "source": [
        "from typing import Tuple\n",
        "import folium\n",
        "from utils import *\n",
        "from routing import *\n",
        "import urllib.request\n",
        "import json\n",
        "from typing import Sequence, List\n",
        "import numpy as np\n",
        "import pyproj"
      ]
    },
    {
      "cell_type": "code",
      "source": [
        "# Data\n",
        "api_key = NA,
        "GPS_coordinates = {\n",
        "    0: {'lat': 57.71620023187504, 'long': 12.87986405933214},\n",
        "    1: {'lat': 57.742020849410686, 'long': 11.98862389236531},\n",
        "    2: {'lat': 57.677241615478124, 'long': 13.430881855699928},\n",
        "    3: {'lat': 57.68544721501225, 'long':12.80328950254612 },\n",
        "    4: {'lat': 57.99919064238388, 'long': 12.86736213670495},\n",
        "    5: {'lat': 57.779347016018605, 'long': 12.77944236850052},\n",
        "    6:{'lat': 57.83047165957498, 'long': 13.008979628662129},\n",
        "    7:{'lat': 57.38858975305961, 'long': 12.568443695711137},\n",
        "    8:{'lat': 57.521030549684255, 'long': 12.716804297693166},\n",
        "    9:{'lat':57.71620023187504, 'long': 12.87986405933214 }\n",
        "}\n",
        "\n"
      ],
      "metadata": {
        "id": "jBqtVFXUgec9"
      },
      "execution_count": 5,
      "outputs": []
    },
    {
      "cell_type": "code",
      "source": [
        "# visualize the location of customer and depot nodes on a map\n",
        "\n",
        "def dict_to_tuple(d: dict) -> Tuple[Tuple[float, float], ...]:\n",
        "    return tuple(tuple(inner_dict.values()) for inner_dict in d.values())\n",
        "\n",
        "GPS_tuples = dict_to_tuple(GPS_coordinates)\n",
        "\n",
        "def create_map_with_tooltips_and_path(points: Tuple[Tuple[float, float]], output_file: str, name_keys):\n",
        "    \"\"\"\n",
        "    Creates an OpenStreetMap with tooltips on the first and last points and a polyline connecting them.\n",
        "\n",
        "    Parameters\n",
        "    ----------\n",
        "    points : tuple of tuples\n",
        "        Points to be connected on the map. Each point is a tuple (latitude, longitude).\n",
        "    output_file : str\n",
        "        The name of the output HTML file to save the map.\n",
        "\n",
        "    Returns\n",
        "    -------\n",
        "    None\n",
        "    \"\"\"\n",
        "    # Check if points are provided\n",
        "    if not points:\n",
        "        raise ValueError(\"No points provided\")\n",
        "\n",
        "    # Check if there are at least two points\n",
        "    if len(points) < 2:\n",
        "        raise ValueError(\"At least two points are required\")\n",
        "\n",
        "    # Create a folium map centered around the first point\n",
        "\n",
        "    my_map = folium.Map(location=points[0], zoom_start=14)\n",
        "\n",
        "    # Add markers with tooltips for the first and last points\n",
        "\n",
        "    for i in range(len(points)-1):\n",
        "      start_point = points[i]\n",
        "      end_point = points[i+1]\n",
        "      if i != 0:\n",
        "        folium.Marker(location=start_point, tooltip=name_keys[i]).add_to(my_map)\n",
        "      else:\n",
        "        folium.Marker(location=start_point, tooltip=name_keys[i], icon=folium.Icon(color=\"green\", icon=\"truck\", prefix='fa')).add_to(my_map)\n",
        "      if i+1 < len(points)-1:\n",
        "        folium.Marker(location=end_point, tooltip=name_keys[i+1]).add_to(my_map)\n",
        "\n",
        "    # Add a polyline to connect all points\n",
        "    #folium.PolyLine(locations=points, color='blue', weight=5).add_to(my_map)\n",
        "\n",
        "    # Save the map to an HTML file\n",
        "    my_map.save(output_file)\n",
        "    print(f\"Map has been saved to {output_file}\")\n",
        "\n",
        "name_keys = list(GPS_coordinates.keys())\n",
        "create_map_with_tooltips_and_path(GPS_tuples, \"Input_data_map.html\", name_keys)"
      ],
      "metadata": {
        "colab": {
          "base_uri": "https://localhost:8080/"
        },
        "id": "ov8x6FgXjSVS",
        "outputId": "eacab455-2199-402e-f22b-abb61fdb03c2"
      },
      "execution_count": 6,
      "outputs": [
        {
          "output_type": "stream",
          "name": "stdout",
          "text": [
            "Map has been saved to Input_data_map.html\n"
          ]
        }
      ]
    },
    {
      "cell_type": "code",
      "source": [
        "# HERE MAP API\n",
        "def compute_distance_TG(points: Tuple[Tuple[float, float]], elevations: List[float]) -> List[float]:\n",
        "    R = 6371000  # radius of earth in meters\n",
        "\n",
        "    # Unpack latitudes and longitudes from points\n",
        "    latitudes, longitudes = zip(*points)\n",
        "\n",
        "    # Convert latitude and longitude from degrees to radians\n",
        "    lat = np.radians(latitudes)\n",
        "    long = np.radians(longitudes)\n",
        "    alt = np.array(elevations)\n",
        "\n",
        "    # Calculate x and y coordinates\n",
        "    x = np.zeros_like(long)\n",
        "    y = np.zeros_like(lat)\n",
        "    z = alt\n",
        "\n",
        "    if len(alt) > 1:\n",
        "        x[1:] = np.cumsum((alt[1:] + R) * np.diff(long)) * np.cos((lat[:-1] + lat[1:]) / 2)\n",
        "        y[1:] = np.cumsum((alt[1:] + R) * np.diff(lat))\n",
        "\n",
        "    # Calculate cumulative distance\n",
        "    distGPS = np.zeros_like(z)\n",
        "\n",
        "    for i in range(1, len(z)):\n",
        "        #distGPS[i] = distGPS[i - 1] + np.sqrt((x[i] - x[i - 1])**2 + (y[i] - y[i - 1])**2 + (z[i] - z[i - 1])**2)\n",
        "        distGPS[i] = distGPS[i - 1] + np.sqrt((x[i] - x[i - 1])**2 + (y[i] - y[i - 1])**2 )\n",
        "\n",
        "    return distGPS.tolist()\n",
        "\n",
        "\n",
        "def calculate_distance_Ren(points: Tuple[Tuple[float, float]]) -> List[float]:\n",
        "    \"\"\"Calculates a distance array from latitude and longitude arrays.\n",
        "\n",
        "    Parameters\n",
        "    ----------\n",
        "    points : Tuple[Tuple[float, float]]\n",
        "        Tuple of (latitude, longitude) pairs.\n",
        "\n",
        "    Returns\n",
        "    -------\n",
        "    distance : List[float]\n",
        "        Cumulative distance in meters.\n",
        "    \"\"\"\n",
        "    geod = pyproj.Geod(ellps='WGS84')\n",
        "\n",
        "    # Unpack latitudes and longitudes from points\n",
        "    latitudes, longitudes = zip(*points)\n",
        "    latitudes = np.array(latitudes)\n",
        "    longitudes = np.array(longitudes)\n",
        "\n",
        "    distance = np.zeros(latitudes.shape)\n",
        "\n",
        "    for a in range(1, len(latitudes)):\n",
        "        az1, az2, d = geod.inv(longitudes[a - 1], latitudes[a - 1], longitudes[a], latitudes[a])\n",
        "        distance[a] = distance[a - 1] + d\n",
        "\n",
        "    return distance.tolist()\n",
        "\n",
        "\n",
        "def request_routing_v8(api_key: str, points: Sequence[Tuple], transport_mode: str = 'truck',\n",
        "                       alternatives: int = 0) -> Tuple[Routing]:\n",
        "    \"\"\"Request routing with HERE Routing v8.\n",
        "\n",
        "    See the HERE `documentation <https://developer.here.com/documentation/routing-api>`_ for more information.\n",
        "\n",
        "    Parameters\n",
        "    ----------\n",
        "    api_key: str\n",
        "       HERE API key.\n",
        "    points : iterable\n",
        "       Points that should be connected by the routing request. Sequence of points on format [(lat, long), ...] where\n",
        "       lat and long are either str or float (WGS84 decimal degrees). First point will be considered as the origin and\n",
        "       last point the final destination.\n",
        "    transport_mode : str, default 'truck'\n",
        "       Transport mode, i.e. type of vehicle. Options are 'pedestrian', 'bike', 'car' or 'truck' (default).\n",
        "    alternatives : int, default 0\n",
        "       Number of alternative routes.\n",
        "\n",
        "    Returns\n",
        "    -------\n",
        "    routings : tuple\n",
        "       Tuple of Routing objects.\n",
        "    \"\"\"\n",
        "    if len(points) < 2 or not all(len(p) == 2 and all(isinstance(pi, (str, float)) for pi in p) for p in points):\n",
        "        raise ValueError('Argument points needs to be on format [(lat, long), ..., (lat, long)]'\n",
        "                         'with a minimum length of 2 (start and stop).')\n",
        "\n",
        "    params = {'apiKey': api_key, 'transportMode': transport_mode, 'origin': f'{points[0][0]},{points[0][1]}',\n",
        "              'destination': f'{points[-1][0]},{points[-1][1]}', 'alternatives': alternatives,\n",
        "              'spans': 'names,length,truckAttributes,maxSpeed,segmentRef',\n",
        "              'return': 'polyline,elevation'}\n",
        "\n",
        "    url_params = '&'.join(f'{k}={v}' for k, v in params.items())\n",
        "\n",
        "    # Add intermediate waypoints through the via argument.\n",
        "    for point in points[1:-1]:\n",
        "        url_params += f'&via={point[0]},{point[1]}'\n",
        "\n",
        "    url = f\"https://router.hereapi.com/v8/routes?{url_params}\"\n",
        "\n",
        "    request = urllib.request.Request(url=url)\n",
        "    with urllib.request.urlopen(request) as response:\n",
        "        text = response.read()\n",
        "        response = json.loads(text)\n",
        "\n",
        "    routings = tuple(Routing.from_response(r) for r in response['routes'])\n",
        "\n",
        "    return routings\n"
      ],
      "metadata": {
        "id": "FJ97S27nrXk2",
        "colab": {
          "base_uri": "https://localhost:8080/",
          "height": 220
        },
        "outputId": "78ddeb75-5266-4867-af9e-06b704fdf3d1"
      },
      "execution_count": 7,
      "outputs": [
        {
          "output_type": "error",
          "ename": "NameError",
          "evalue": "name 'Routing' is not defined",
          "traceback": [
            "\u001b[0;31m---------------------------------------------------------------------------\u001b[0m",
            "\u001b[0;31mNameError\u001b[0m                                 Traceback (most recent call last)",
            "\u001b[0;32m<ipython-input-7-731a2bba9a56>\u001b[0m in \u001b[0;36m<cell line: 61>\u001b[0;34m()\u001b[0m\n\u001b[1;32m     60\u001b[0m \u001b[0;34m\u001b[0m\u001b[0m\n\u001b[1;32m     61\u001b[0m def request_routing_v8(api_key: str, points: Sequence[Tuple], transport_mode: str = 'truck',\n\u001b[0;32m---> 62\u001b[0;31m                        alternatives: int = 0) -> Tuple[Routing]:\n\u001b[0m\u001b[1;32m     63\u001b[0m     \"\"\"Request routing with HERE Routing v8.\n\u001b[1;32m     64\u001b[0m \u001b[0;34m\u001b[0m\u001b[0m\n",
            "\u001b[0;31mNameError\u001b[0m: name 'Routing' is not defined"
          ]
        }
      ]
    },
    {
      "cell_type": "code",
      "source": [
        "\n",
        "# for each pair of nodes: compute one shortest path -> path -> distance of each section in the path -> elevation of each section -> angle of each section with right sign\n",
        "\n",
        "def get_path_elev(GPS_tuples:Tuple[Tuple[float, float], ...], option: str) -> Tuple[dict, dict, dict]:\n",
        "  Path_bw_nodes = {}\n",
        "  Elevation_at_nodes = {}\n",
        "  Distance_bw_nodes = {}\n",
        "\n",
        "  for i in range(len(GPS_tuples)):\n",
        "    for j in range( len(GPS_tuples)):\n",
        "      if i!=j:\n",
        "        routes = request_routing_v8(api_key = api_key, points = [GPS_tuples[i], GPS_tuples[j]],\n",
        "                      transport_mode='truck', alternatives= 0)\n",
        "        points_ = routes[0].points()\n",
        "        Path_bw_nodes[(i,j)] = points_\n",
        "        Elevation_at_nodes[(i,j)] = routes[0].elevation()\n",
        "        Distance_bw_nodes[(i,j)] = compute_distance_TG(Path_bw_nodes[(i,j)], Elevation_at_nodes[(i,j)]) if option=='TG' else calculate_distance_Ren(points_)\n",
        "\n",
        "  return Path_bw_nodes, Elevation_at_nodes, Distance_bw_nodes\n",
        "\n",
        "\n",
        "option = 'TG'\n",
        "\n",
        "Path_bw_nodes, Elevation_at_nodes, Dist_bw_nodes = get_path_elev(GPS_tuples, option)\n",
        "\n"
      ],
      "metadata": {
        "id": "JEekUKVGorKr"
      },
      "execution_count": null,
      "outputs": []
    },
    {
      "cell_type": "markdown",
      "source": [],
      "metadata": {
        "id": "saCRs6jqMuoe"
      }
    },
    {
      "cell_type": "code",
      "source": [
        "import math\n",
        "\n",
        "def get_angle(points: Tuple[Tuple(float, float)], elevation: Tuple[float], distance: float) -> List[float]:\n",
        "  start_point = points[0]\n",
        "  end_point = points[-1]\n",
        "\n",
        "  elevation_start = elevation[0]\n",
        "  elevation_end = elevation[-1]\n",
        "  elevation_diff = elevation_end - elevation_start\n",
        "  angle = math.degrees(math.asin(elevation_diff / distance))\n",
        "  return angle\n",
        "\n",
        "\n",
        "def get\n",
        "\n",
        "\n",
        "\n"
      ],
      "metadata": {
        "id": "NvY9FPVnHSEy"
      },
      "execution_count": null,
      "outputs": []
    }
  ]
}
